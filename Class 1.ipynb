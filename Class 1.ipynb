{
 "cells": [
  {
   "cell_type": "markdown",
   "metadata": {},
   "source": [
    "# Assignment  1"
   ]
  },
  {
   "cell_type": "code",
   "execution_count": 29,
   "metadata": {},
   "outputs": [
    {
     "ename": "ZeroDivisionError",
     "evalue": "division by zero",
     "output_type": "error",
     "traceback": [
      "\u001b[0;31m---------------------------------------------------------------------------\u001b[0m",
      "\u001b[0;31mZeroDivisionError\u001b[0m                         Traceback (most recent call last)",
      "\u001b[0;32m<ipython-input-29-18cdc03336a2>\u001b[0m in \u001b[0;36m<module>\u001b[0;34m\u001b[0m\n\u001b[1;32m      8\u001b[0m \u001b[0;31m#26\u001b[0m\u001b[0;34m\u001b[0m\u001b[0;34m\u001b[0m\u001b[0;34m\u001b[0m\u001b[0m\n\u001b[1;32m      9\u001b[0m \u001b[0;34m\u001b[0m\u001b[0m\n\u001b[0;32m---> 10\u001b[0;31m \u001b[0;32mTrue\u001b[0m \u001b[0;34m/\u001b[0m \u001b[0;32mFalse\u001b[0m \u001b[0;34m-\u001b[0m \u001b[0;32mTrue\u001b[0m\u001b[0;34m\u001b[0m\u001b[0;34m\u001b[0m\u001b[0m\n\u001b[0m\u001b[1;32m     11\u001b[0m \u001b[0;31m#zeroError\u001b[0m\u001b[0;34m\u001b[0m\u001b[0;34m\u001b[0m\u001b[0;34m\u001b[0m\u001b[0m\n\u001b[1;32m     12\u001b[0m \u001b[0;34m\u001b[0m\u001b[0m\n",
      "\u001b[0;31mZeroDivisionError\u001b[0m: division by zero"
     ]
    }
   ],
   "source": [
    "0 and True                                                                                                \n",
    "#0\n",
    "\n",
    "1 or True                                                                                                       \n",
    "#1\n",
    "\n",
    "26 or True                                                                                                     \n",
    "#26\n",
    "\n",
    "True / False - True                                                                         \n",
    "#zeroError\n",
    "\n",
    "True + False + True / True                                                                                    \n",
    "#2.0\n",
    "\n",
    "#In \"and\" operator the first false value is executed\n",
    "\n",
    "#In \"or\" operator the first true value is executed"
   ]
  },
  {
   "cell_type": "markdown",
   "metadata": {},
   "source": [
    "## Control Statement"
   ]
  },
  {
   "cell_type": "code",
   "execution_count": 2,
   "metadata": {
    "scrolled": true
   },
   "outputs": [
    {
     "name": "stdout",
     "output_type": "stream",
     "text": [
      "Enter the number:- 234567\n",
      "234567 is odd\n"
     ]
    }
   ],
   "source": [
    "#Check the input number is even or odd\n",
    "num = input(\"Enter the number:- \")\n",
    "if int(num) % 2 == 0:\n",
    "    print(f\"{num} is even\")\n",
    "else:\n",
    "    print(f\"{num} is odd\")"
   ]
  },
  {
   "cell_type": "code",
   "execution_count": 3,
   "metadata": {},
   "outputs": [
    {
     "name": "stdout",
     "output_type": "stream",
     "text": [
      "Enter the number:- 2345678\n",
      "35\n"
     ]
    }
   ],
   "source": [
    "#Sum of the digits of the input number\n",
    "num = int(input(\"Enter the number:- \"))\n",
    "sum = 0\n",
    "while num > 1:\n",
    "    sum = sum + (num % 10)\n",
    "    num = num // 10\n",
    "print(sum)"
   ]
  },
  {
   "cell_type": "code",
   "execution_count": 4,
   "metadata": {},
   "outputs": [
    {
     "name": "stdout",
     "output_type": "stream",
     "text": [
      "Enter the string:- ITER\n",
      "I T E R "
     ]
    }
   ],
   "source": [
    "string = input(\"Enter the string:- \")\n",
    "for i in string:\n",
    "    print(i, end = \" \")"
   ]
  },
  {
   "cell_type": "code",
   "execution_count": 13,
   "metadata": {},
   "outputs": [
    {
     "name": "stdout",
     "output_type": "stream",
     "text": [
      "Enter the number:- 1234567899987654\n",
      "1234567899987754\n"
     ]
    }
   ],
   "source": [
    "import sys\n",
    "x = int(input(\"Enter the number:- \"))\n",
    "if x < 0:\n",
    "    print(x)\n",
    "elif x > 0:\n",
    "    print(x + 100)\n",
    "elif x == 0:\n",
    "    pass\n",
    "else:\n",
    "    print(\"This is suspence\")\n",
    "    sys.exit(0)"
   ]
  },
  {
   "cell_type": "code",
   "execution_count": 16,
   "metadata": {},
   "outputs": [
    {
     "data": {
      "text/plain": [
       "15"
      ]
     },
     "execution_count": 16,
     "metadata": {},
     "output_type": "execute_result"
    }
   ],
   "source": [
    "x = 0\n",
    "while True:\n",
    "    x += 1\n",
    "    print(x, end = \" \")\n",
    "    if x == 15:\n",
    "        break"
   ]
  },
  {
   "cell_type": "markdown",
   "metadata": {},
   "source": [
    "## String"
   ]
  },
  {
   "cell_type": "code",
   "execution_count": 59,
   "metadata": {},
   "outputs": [
    {
     "name": "stdout",
     "output_type": "stream",
     "text": [
      "43\n",
      "te of Te\n",
      "t fTcnc\n",
      "tute of Technical Education & Research\n",
      "INSTITUTE OF TECHNICAL EDUCATION & RESEARCH\n",
      "\n",
      "Institute of Technical Education & Research\n",
      "Institute of technical education & research\n",
      "institute of technical education & research\n",
      "0\n",
      "Institute Of Technical Education & Research\n",
      "10\n",
      "23\n",
      "37\n",
      "&\n",
      "Education \n",
      "iNSTITUTE OF tECHNICAL eDUCATION & rESEARCH\n",
      "False\n",
      "False\n",
      "False\n",
      "b'Institute of Technical Education & Research'\n",
      "Institute of Technical Education & Research\n"
     ]
    }
   ],
   "source": [
    "sample = \"Institute of Technical Education & Research\"\n",
    "print(len(sample))\n",
    "print(sample[7:15])\n",
    "print(sample[7:20:2])\n",
    "print(sample[5::])\n",
    "sample.lower()\n",
    "x = sample.upper()\n",
    "print(x)\n",
    "\n",
    "print()\n",
    "print(sample)\n",
    "print(sample.capitalize())\n",
    "print(sample.casefold())\n",
    "print(sample.count(\"q\"))\n",
    "print(sample.title())\n",
    "print(sample.find(\"of\"))\n",
    "print(sample.find(\"Education\"))\n",
    "print(sample.rfind('s'))\n",
    "print(sample[-10])\n",
    "print(sample[-20:-10])\n",
    "print(sample.swapcase())\n",
    "print(sample.islower())\n",
    "print(sample.isalnum())\n",
    "print(sample.isalpha())\n",
    "y = sample.encode('utf8')\n",
    "print(y)\n",
    "z = y.decode('utf8')\n",
    "print(z)"
   ]
  },
  {
   "cell_type": "code",
   "execution_count": 23,
   "metadata": {},
   "outputs": [
    {
     "name": "stdout",
     "output_type": "stream",
     "text": [
      "43\n",
      "te of Te\n",
      "s i u e o   e h i a "
     ]
    }
   ],
   "source": [
    "for i in range(2, 21, 2):\n",
    "    print(sample[i], end = \" \")"
   ]
  },
  {
   "cell_type": "code",
   "execution_count": null,
   "metadata": {},
   "outputs": [],
   "source": []
  }
 ],
 "metadata": {
  "celltoolbar": "Raw Cell Format",
  "kernelspec": {
   "display_name": "Python 3",
   "language": "python",
   "name": "python3"
  },
  "language_info": {
   "codemirror_mode": {
    "name": "ipython",
    "version": 3
   },
   "file_extension": ".py",
   "mimetype": "text/x-python",
   "name": "python",
   "nbconvert_exporter": "python",
   "pygments_lexer": "ipython3",
   "version": "3.7.3"
  }
 },
 "nbformat": 4,
 "nbformat_minor": 2
}
